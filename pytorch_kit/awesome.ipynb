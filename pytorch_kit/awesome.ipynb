{
 "cells": [
  {
   "cell_type": "code",
   "execution_count": 2,
   "metadata": {},
   "outputs": [],
   "source": [
    "import numpy as np\n",
    "import torch\n",
    "import torchvision"
   ]
  },
  {
   "cell_type": "markdown",
   "metadata": {},
   "source": [
    "# numpy TEST"
   ]
  },
  {
   "cell_type": "code",
   "execution_count": 12,
   "metadata": {},
   "outputs": [
    {
     "name": "stdout",
     "output_type": "stream",
     "text": [
      "[[0 1 2 3 4]]\n",
      "[[0]\n",
      " [1]\n",
      " [2]\n",
      " [3]\n",
      " [4]]\n",
      "[[ 0  4  0]\n",
      " [ 9 25  9]\n",
      " [36 64 36]]\n",
      "[  4  43 136]\n",
      "[0 1 2]\n"
     ]
    }
   ],
   "source": [
    "# v1 = np.array([1, 0, 0, 1, 2, 3, 5, 0, 0])\n",
    "# v1 = np.where(v1 != 0)\n",
    "# print(v1)\n",
    "\n",
    "# v2 = np.array([[0, 1, 2, 3],\n",
    "#                [4, 5, 6, 7]])\n",
    "# v2 = v2.reshape((-1,2,2))\n",
    "# print(v2)\n",
    "\n",
    "# v3 = np.array([[[0, 1]],\n",
    "#                [[2, 7]],\n",
    "#                [[-1, 0]],\n",
    "#                [[8, -8]]])\n",
    "# print(v3.shape)\n",
    "# print(v3.max(axis=0))\n",
    "v4 = np.array([0, 1, 2, 3, 4])\n",
    "print(np.expand_dims(v4, axis=0))\n",
    "print(v4[:,np.newaxis])\n",
    "\n",
    "v4 = np.array([[1, 0, 3]])\n",
    "v5 = np.array([[1, 2, 3],\n",
    "               [4, 5, 6],\n",
    "               [7, 8, 9]])\n",
    "v5 = np.square(v5 - v4)\n",
    "print(v5)\n",
    "print(np.sum(v5, axis=-1))\n",
    "print(np.argsort(np.sum(v5, axis=-1)))"
   ]
  },
  {
   "cell_type": "markdown",
   "metadata": {},
   "source": [
    "# about torch"
   ]
  },
  {
   "cell_type": "markdown",
   "metadata": {},
   "source": [
    "### 1. DataLoader"
   ]
  },
  {
   "cell_type": "code",
   "execution_count": 13,
   "metadata": {},
   "outputs": [],
   "source": [
    "import torch.utils.data as data\n",
    "from torch.utils.data.sampler import Sampler"
   ]
  },
  {
   "cell_type": "code",
   "execution_count": 25,
   "metadata": {},
   "outputs": [
    {
     "name": "stdout",
     "output_type": "stream",
     "text": [
      "0\n",
      "1\n",
      "4\n",
      "tensor([[1., 0., 0., 0., 0., 0., 0.],\n",
      "        [0., 1., 0., 0., 0., 0., 0.],\n",
      "        [0., 0., 0., 0., 1., 0., 0.]])\n",
      "6\n",
      "3\n",
      "2\n",
      "tensor([[0., 0., 0., 0., 0., 0., 1.],\n",
      "        [0., 0., 0., 1., 0., 0., 0.],\n",
      "        [0., 0., 1., 0., 0., 0., 0.]])\n",
      "5\n",
      "tensor([[0., 0., 0., 0., 0., 1., 0.]])\n"
     ]
    }
   ],
   "source": [
    "class MyDataset(data.Dataset):\n",
    "    def __init__(self):\n",
    "        self.data = torch.eye(7)\n",
    "        self.data_len = self.data.size(0)\n",
    "        \n",
    "    def __getitem__(self, index):\n",
    "        print(index)\n",
    "        return self.data[index]\n",
    "    \n",
    "    def __len__(self):\n",
    "        return int(self.data_len)\n",
    "    \n",
    "class Samp(Sampler):\n",
    "    def __init__(self):\n",
    "        self.smp = np.array([0, 1, 4, 6, 3, 2, 5])\n",
    "        self.smp_len = len(self.smp)\n",
    "    \n",
    "    def __iter__(self):\n",
    "        return iter(self.smp)\n",
    "    \n",
    "    def __len__(self):\n",
    "        return self.smp_len\n",
    "\n",
    "\n",
    "mydataset = MyDataset()    \n",
    "samp = Samp()\n",
    "\n",
    "dataloader = data.DataLoader(mydataset,\n",
    "                             batch_size=3,\n",
    "                             shuffle=False,\n",
    "                             sampler=samp)\n",
    "\n",
    "for i, v in enumerate(dataloader):\n",
    "    print(v)"
   ]
  },
  {
   "cell_type": "markdown",
   "metadata": {},
   "source": [
    "### 2. Tensor"
   ]
  },
  {
   "cell_type": "code",
   "execution_count": 11,
   "metadata": {},
   "outputs": [
    {
     "name": "stdout",
     "output_type": "stream",
     "text": [
      "3 <class 'int'>\n"
     ]
    }
   ],
   "source": [
    "t1 = torch.randn(3, 3)\n",
    "print(t1.size(0), type(t1.size(0)))"
   ]
  },
  {
   "cell_type": "markdown",
   "metadata": {},
   "source": [
    "### 3. some func api"
   ]
  },
  {
   "cell_type": "code",
   "execution_count": 28,
   "metadata": {},
   "outputs": [
    {
     "name": "stdout",
     "output_type": "stream",
     "text": [
      "tensor([[-1.0483, -1.0936,  2.4456],\n",
      "        [ 0.0209, -1.6739, -0.4380],\n",
      "        [-0.0430, -1.3206, -0.4029]])\n",
      "torch.return_types.max(\n",
      "values=tensor([ 2.4456,  0.0209, -0.0430]),\n",
      "indices=tensor([2, 0, 0]))\n"
     ]
    }
   ],
   "source": [
    "s1 = torch.randn(3, 3)\n",
    "s2 = torch.max(s1, 1)\n",
    "print(s1)\n",
    "print(s2)"
   ]
  },
  {
   "cell_type": "markdown",
   "metadata": {},
   "source": [
    "# Only Test Something "
   ]
  },
  {
   "cell_type": "code",
   "execution_count": 18,
   "metadata": {},
   "outputs": [
    {
     "name": "stdout",
     "output_type": "stream",
     "text": [
      "./asda/asd.jpg\n"
     ]
    }
   ],
   "source": [
    "import os\n",
    "print(os.path.join('.', 'asda/asd.jpg'))"
   ]
  },
  {
   "cell_type": "code",
   "execution_count": null,
   "metadata": {},
   "outputs": [],
   "source": []
  }
 ],
 "metadata": {
  "kernelspec": {
   "display_name": "Python 3",
   "language": "python",
   "name": "python3"
  },
  "language_info": {
   "codemirror_mode": {
    "name": "ipython",
    "version": 3
   },
   "file_extension": ".py",
   "mimetype": "text/x-python",
   "name": "python",
   "nbconvert_exporter": "python",
   "pygments_lexer": "ipython3",
   "version": "3.6.5"
  }
 },
 "nbformat": 4,
 "nbformat_minor": 2
}

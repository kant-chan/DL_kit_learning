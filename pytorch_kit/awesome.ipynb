{
 "cells": [
  {
   "cell_type": "code",
   "execution_count": 2,
   "metadata": {},
   "outputs": [],
   "source": [
    "import numpy as np\n",
    "import torch\n",
    "import torchvision"
   ]
  },
  {
   "cell_type": "markdown",
   "metadata": {},
   "source": [
    "# numpy TEST"
   ]
  },
  {
   "cell_type": "code",
   "execution_count": 12,
   "metadata": {},
   "outputs": [
    {
     "name": "stdout",
     "output_type": "stream",
     "text": [
      "[[0 1 2 3 4]]\n",
      "[[0]\n",
      " [1]\n",
      " [2]\n",
      " [3]\n",
      " [4]]\n",
      "[[ 0  4  0]\n",
      " [ 9 25  9]\n",
      " [36 64 36]]\n",
      "[  4  43 136]\n",
      "[0 1 2]\n"
     ]
    }
   ],
   "source": [
    "# v1 = np.array([1, 0, 0, 1, 2, 3, 5, 0, 0])\n",
    "# v1 = np.where(v1 != 0)\n",
    "# print(v1)\n",
    "\n",
    "# v2 = np.array([[0, 1, 2, 3],\n",
    "#                [4, 5, 6, 7]])\n",
    "# v2 = v2.reshape((-1,2,2))\n",
    "# print(v2)\n",
    "\n",
    "# v3 = np.array([[[0, 1]],\n",
    "#                [[2, 7]],\n",
    "#                [[-1, 0]],\n",
    "#                [[8, -8]]])\n",
    "# print(v3.shape)\n",
    "# print(v3.max(axis=0))\n",
    "v4 = np.array([0, 1, 2, 3, 4])\n",
    "print(np.expand_dims(v4, axis=0))\n",
    "print(v4[:,np.newaxis])\n",
    "\n",
    "v4 = np.array([[1, 0, 3]])\n",
    "v5 = np.array([[1, 2, 3],\n",
    "               [4, 5, 6],\n",
    "               [7, 8, 9]])\n",
    "v5 = np.square(v5 - v4)\n",
    "print(v5)\n",
    "print(np.sum(v5, axis=-1))\n",
    "print(np.argsort(np.sum(v5, axis=-1)))"
   ]
  },
  {
   "cell_type": "markdown",
   "metadata": {},
   "source": [
    "# about torch"
   ]
  },
  {
   "cell_type": "markdown",
   "metadata": {},
   "source": [
    "### 1. DataLoader"
   ]
  },
  {
   "cell_type": "code",
   "execution_count": 13,
   "metadata": {},
   "outputs": [],
   "source": [
    "import torch.utils.data as data\n",
    "from torch.utils.data.sampler import Sampler"
   ]
  },
  {
   "cell_type": "code",
   "execution_count": 25,
   "metadata": {},
   "outputs": [
    {
     "name": "stdout",
     "output_type": "stream",
     "text": [
      "0\n",
      "1\n",
      "4\n",
      "tensor([[1., 0., 0., 0., 0., 0., 0.],\n",
      "        [0., 1., 0., 0., 0., 0., 0.],\n",
      "        [0., 0., 0., 0., 1., 0., 0.]])\n",
      "6\n",
      "3\n",
      "2\n",
      "tensor([[0., 0., 0., 0., 0., 0., 1.],\n",
      "        [0., 0., 0., 1., 0., 0., 0.],\n",
      "        [0., 0., 1., 0., 0., 0., 0.]])\n",
      "5\n",
      "tensor([[0., 0., 0., 0., 0., 1., 0.]])\n"
     ]
    }
   ],
   "source": [
    "class MyDataset(data.Dataset):\n",
    "    def __init__(self):\n",
    "        self.data = torch.eye(7)\n",
    "        self.data_len = self.data.size(0)\n",
    "        \n",
    "    def __getitem__(self, index):\n",
    "        print(index)\n",
    "        return self.data[index]\n",
    "    \n",
    "    def __len__(self):\n",
    "        return int(self.data_len)\n",
    "    \n",
    "class Samp(Sampler):\n",
    "    def __init__(self):\n",
    "        self.smp = np.array([0, 1, 4, 6, 3, 2, 5])\n",
    "        self.smp_len = len(self.smp)\n",
    "    \n",
    "    def __iter__(self):\n",
    "        return iter(self.smp)\n",
    "    \n",
    "    def __len__(self):\n",
    "        return self.smp_len\n",
    "\n",
    "\n",
    "mydataset = MyDataset()    \n",
    "samp = Samp()\n",
    "\n",
    "dataloader = data.DataLoader(mydataset,\n",
    "                             batch_size=3,\n",
    "                             shuffle=False,\n",
    "                             sampler=samp)\n",
    "\n",
    "for i, v in enumerate(dataloader):\n",
    "    print(v)"
   ]
  },
  {
   "cell_type": "markdown",
   "metadata": {},
   "source": [
    "### 2. Tensor"
   ]
  },
  {
   "cell_type": "code",
   "execution_count": 11,
   "metadata": {},
   "outputs": [
    {
     "name": "stdout",
     "output_type": "stream",
     "text": [
      "3 <class 'int'>\n"
     ]
    }
   ],
   "source": [
    "t1 = torch.randn(3, 3)\n",
    "print(t1.size(0), type(t1.size(0)))"
   ]
  },
  {
   "cell_type": "markdown",
   "metadata": {},
   "source": [
    "### 3. some func api"
   ]
  },
  {
   "cell_type": "code",
   "execution_count": 3,
   "metadata": {},
   "outputs": [
    {
     "name": "stdout",
     "output_type": "stream",
     "text": [
      "tensor([[ 0.9422,  2.2302, -0.6731],\n",
      "        [ 0.1782,  1.0912, -0.5894],\n",
      "        [ 0.5980,  0.5205, -0.3998]])\n",
      "torch.return_types.max(\n",
      "values=tensor([2.2302, 1.0912, 0.5980]),\n",
      "indices=tensor([1, 1, 0]))\n",
      "tensor([[[-1.2189,  0.3860,  0.6612, -0.5503],\n",
      "         [ 0.0235,  1.4213,  0.8730,  0.1270],\n",
      "         [ 1.7497, -0.7082, -1.4129,  0.4653],\n",
      "         [-0.8298,  0.3792, -1.8405,  0.1535],\n",
      "         [ 0.2550, -1.4524, -0.5629,  1.0850]],\n",
      "\n",
      "        [[-1.8875,  0.9664,  0.8628, -0.9391],\n",
      "         [-1.7569,  1.2431,  0.1463, -0.4209],\n",
      "         [-1.3757, -0.4443, -1.6345,  1.6738],\n",
      "         [-0.1588, -1.8369,  0.5406,  0.8178],\n",
      "         [-0.9371,  0.5605, -0.4585,  0.4215]],\n",
      "\n",
      "        [[-1.6968, -0.5511,  0.7867,  0.4336],\n",
      "         [-0.5813, -0.3624, -0.3887,  0.9923],\n",
      "         [ 0.1936,  0.7338, -0.9608,  0.6367],\n",
      "         [-0.1973,  0.3087, -1.5334, -1.3575],\n",
      "         [-0.8923, -0.0491,  0.4147,  0.3574]],\n",
      "\n",
      "        [[ 0.3110, -0.2247,  0.2613,  1.6110],\n",
      "         [-1.6648,  1.1230,  0.4536, -1.2396],\n",
      "         [ 0.6621, -0.0161,  0.9055,  0.4451],\n",
      "         [-1.5074, -0.0828,  0.6550,  0.4948],\n",
      "         [ 0.1338, -0.3954, -1.1367,  0.3677]],\n",
      "\n",
      "        [[ 0.0695,  0.5359, -1.3689, -0.7869],\n",
      "         [ 0.7072,  0.3125, -0.3686, -0.1340],\n",
      "         [ 0.5489, -1.2428,  1.1021,  0.6709],\n",
      "         [-0.6241,  0.1447, -0.8164, -0.9566],\n",
      "         [-0.5872,  0.6009, -1.2360,  0.2487]],\n",
      "\n",
      "        [[-0.9140,  0.3202,  1.4928,  0.7617],\n",
      "         [-0.2891,  2.2529,  0.2336,  1.2205],\n",
      "         [-1.5160, -2.0385, -0.7862,  1.1424],\n",
      "         [-0.5373,  0.0360,  2.0289,  1.6113],\n",
      "         [ 1.0218,  0.5571, -0.0062,  0.1153]],\n",
      "\n",
      "        [[-1.8377, -0.4487,  1.1429,  0.3756],\n",
      "         [-1.0221, -0.0098,  0.1156,  0.1505],\n",
      "         [-0.9446,  0.5525, -0.2859,  0.8438],\n",
      "         [-0.2334,  0.5675, -1.1458,  0.8657],\n",
      "         [ 1.3447,  0.2793, -0.6119,  0.9952]]])\n",
      "torch.return_types.max(\n",
      "values=tensor([[0.6612, 1.4213, 1.7497, 0.3792, 1.0850],\n",
      "        [0.9664, 1.2431, 1.6738, 0.8178, 0.5605],\n",
      "        [0.7867, 0.9923, 0.7338, 0.3087, 0.4147],\n",
      "        [1.6110, 1.1230, 0.9055, 0.6550, 0.3677],\n",
      "        [0.5359, 0.7072, 1.1021, 0.1447, 0.6009],\n",
      "        [1.4928, 2.2529, 1.1424, 2.0289, 1.0218],\n",
      "        [1.1429, 0.1505, 0.8438, 0.8657, 1.3447]]),\n",
      "indices=tensor([[2, 1, 0, 1, 3],\n",
      "        [1, 1, 3, 3, 1],\n",
      "        [2, 3, 1, 1, 2],\n",
      "        [3, 1, 2, 2, 3],\n",
      "        [1, 0, 2, 1, 1],\n",
      "        [2, 1, 3, 2, 0],\n",
      "        [2, 3, 3, 3, 0]]))\n",
      "torch.return_types.max(\n",
      "values=tensor([[ 1.7497,  1.4213,  0.8730,  1.0850],\n",
      "        [-0.1588,  1.2431,  0.8628,  1.6738],\n",
      "        [ 0.1936,  0.7338,  0.7867,  0.9923],\n",
      "        [ 0.6621,  1.1230,  0.9055,  1.6110],\n",
      "        [ 0.7072,  0.6009,  1.1021,  0.6709],\n",
      "        [ 1.0218,  2.2529,  2.0289,  1.6113],\n",
      "        [ 1.3447,  0.5675,  1.1429,  0.9952]]),\n",
      "indices=tensor([[2, 1, 1, 4],\n",
      "        [3, 1, 0, 2],\n",
      "        [2, 2, 0, 1],\n",
      "        [2, 1, 2, 0],\n",
      "        [1, 4, 2, 2],\n",
      "        [4, 1, 3, 3],\n",
      "        [4, 3, 0, 4]]))\n"
     ]
    }
   ],
   "source": [
    "s1 = torch.randn(3, 3)\n",
    "s2 = torch.max(s1, 1)\n",
    "print(s1)\n",
    "print(s2)\n",
    "\n",
    "s3 = torch.randn(7, 5, 4)\n",
    "print(s3)\n",
    "s4 = torch.max(s3, 2)\n",
    "print(s4)\n",
    "s5 = torch.max(s3, 1)\n",
    "print(s5)"
   ]
  },
  {
   "cell_type": "markdown",
   "metadata": {},
   "source": [
    "# Only Test Something "
   ]
  },
  {
   "cell_type": "code",
   "execution_count": 18,
   "metadata": {},
   "outputs": [
    {
     "name": "stdout",
     "output_type": "stream",
     "text": [
      "./asda/asd.jpg\n"
     ]
    }
   ],
   "source": [
    "import os\n",
    "print(os.path.join('.', 'asda/asd.jpg'))"
   ]
  },
  {
   "cell_type": "code",
   "execution_count": null,
   "metadata": {},
   "outputs": [],
   "source": []
  }
 ],
 "metadata": {
  "kernelspec": {
   "display_name": "Python 3",
   "language": "python",
   "name": "python3"
  },
  "language_info": {
   "codemirror_mode": {
    "name": "ipython",
    "version": 3
   },
   "file_extension": ".py",
   "mimetype": "text/x-python",
   "name": "python",
   "nbconvert_exporter": "python",
   "pygments_lexer": "ipython3",
   "version": "3.6.5"
  }
 },
 "nbformat": 4,
 "nbformat_minor": 2
}

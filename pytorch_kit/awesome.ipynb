{
 "cells": [
  {
   "cell_type": "code",
   "execution_count": 2,
   "metadata": {},
   "outputs": [],
   "source": [
    "import numpy as np\n",
    "import torch\n",
    "import torchvision"
   ]
  },
  {
   "cell_type": "markdown",
   "metadata": {},
   "source": [
    "# about torch"
   ]
  },
  {
   "cell_type": "markdown",
   "metadata": {},
   "source": [
    "### 0. load model"
   ]
  },
  {
   "cell_type": "code",
   "execution_count": null,
   "metadata": {},
   "outputs": [],
   "source": [
    "DEBUG = True\n",
    "\n",
    "class vgg():\n",
    "    \n",
    "    def __init__(self):\n",
    "        self.model_path = '../faster_rcnn/data/pretrained_model/vgg16_caffe.pth'\n",
    "\n",
    "    def _init_modules(self):\n",
    "        vgg = torchvision.models.vgg16()\n",
    "        if DEBUG:\n",
    "            # print(type(vgg.state_dict()))   # <class 'collections.OrderedDict'>\n",
    "            for i, _ in vgg.state_dict().items():\n",
    "                print(i)\n",
    "\n",
    "        load_state_dict = torch.load(model_path)\n",
    "        if DEBUG:\n",
    "            print('****************')\n",
    "            # print(type(state_dict))  # <class 'collections.OrderedDict'>\n",
    "            for i, _ in load_state_dict.items():\n",
    "                print(i)\n",
    "        \n",
    "        if DEBUG:\n",
    "            print('****************')\n",
    "            for para in vgg.parameters():\n",
    "                # print(type(para))\n",
    "                print(para.size())\n",
    "                \n",
    "vgg16 = vgg()\n",
    "vgg16._init_modules()"
   ]
  },
  {
   "cell_type": "markdown",
   "metadata": {},
   "source": [
    "### 1. DataLoader"
   ]
  },
  {
   "cell_type": "code",
   "execution_count": 13,
   "metadata": {},
   "outputs": [],
   "source": [
    "import torch.utils.data as data\n",
    "from torch.utils.data.sampler import Sampler"
   ]
  },
  {
   "cell_type": "code",
   "execution_count": 25,
   "metadata": {},
   "outputs": [
    {
     "name": "stdout",
     "output_type": "stream",
     "text": [
      "0\n",
      "1\n",
      "4\n",
      "tensor([[1., 0., 0., 0., 0., 0., 0.],\n",
      "        [0., 1., 0., 0., 0., 0., 0.],\n",
      "        [0., 0., 0., 0., 1., 0., 0.]])\n",
      "6\n",
      "3\n",
      "2\n",
      "tensor([[0., 0., 0., 0., 0., 0., 1.],\n",
      "        [0., 0., 0., 1., 0., 0., 0.],\n",
      "        [0., 0., 1., 0., 0., 0., 0.]])\n",
      "5\n",
      "tensor([[0., 0., 0., 0., 0., 1., 0.]])\n"
     ]
    }
   ],
   "source": [
    "class MyDataset(data.Dataset):\n",
    "    def __init__(self):\n",
    "        self.data = torch.eye(7)\n",
    "        self.data_len = self.data.size(0)\n",
    "        \n",
    "    def __getitem__(self, index):\n",
    "        print(index)\n",
    "        return self.data[index]\n",
    "    \n",
    "    def __len__(self):\n",
    "        return int(self.data_len)\n",
    "    \n",
    "class Samp(Sampler):\n",
    "    def __init__(self):\n",
    "        self.smp = np.array([0, 1, 4, 6, 3, 2, 5])\n",
    "        self.smp_len = len(self.smp)\n",
    "    \n",
    "    def __iter__(self):\n",
    "        return iter(self.smp)\n",
    "    \n",
    "    def __len__(self):\n",
    "        return self.smp_len\n",
    "\n",
    "\n",
    "mydataset = MyDataset()    \n",
    "samp = Samp()\n",
    "\n",
    "dataloader = data.DataLoader(mydataset,\n",
    "                             batch_size=3,\n",
    "                             shuffle=False,\n",
    "                             sampler=samp)\n",
    "\n",
    "for i, v in enumerate(dataloader):\n",
    "    print(v)"
   ]
  },
  {
   "cell_type": "markdown",
   "metadata": {},
   "source": [
    "### 2. Tensor"
   ]
  },
  {
   "cell_type": "code",
   "execution_count": 59,
   "metadata": {},
   "outputs": [
    {
     "name": "stdout",
     "output_type": "stream",
     "text": [
      "3 <class 'int'>\n",
      "torch.Size([]) torch.Size([1, 1])\n",
      "3\n",
      "7\n"
     ]
    }
   ],
   "source": [
    "t1 = torch.randn(3, 3)\n",
    "print(t1.size(0), type(t1.size(0)))\n",
    "\n",
    "t2 = torch.tensor(3)\n",
    "t3 = torch.tensor([[7]])\n",
    "print(t2.size(), t3.size())\n",
    "print(t2.item())\n",
    "print(t3.item())"
   ]
  },
  {
   "cell_type": "markdown",
   "metadata": {},
   "source": [
    "### 3. some func api"
   ]
  },
  {
   "cell_type": "code",
   "execution_count": 3,
   "metadata": {},
   "outputs": [
    {
     "name": "stdout",
     "output_type": "stream",
     "text": [
      "tensor([[ 0.9422,  2.2302, -0.6731],\n",
      "        [ 0.1782,  1.0912, -0.5894],\n",
      "        [ 0.5980,  0.5205, -0.3998]])\n",
      "torch.return_types.max(\n",
      "values=tensor([2.2302, 1.0912, 0.5980]),\n",
      "indices=tensor([1, 1, 0]))\n",
      "tensor([[[-1.2189,  0.3860,  0.6612, -0.5503],\n",
      "         [ 0.0235,  1.4213,  0.8730,  0.1270],\n",
      "         [ 1.7497, -0.7082, -1.4129,  0.4653],\n",
      "         [-0.8298,  0.3792, -1.8405,  0.1535],\n",
      "         [ 0.2550, -1.4524, -0.5629,  1.0850]],\n",
      "\n",
      "        [[-1.8875,  0.9664,  0.8628, -0.9391],\n",
      "         [-1.7569,  1.2431,  0.1463, -0.4209],\n",
      "         [-1.3757, -0.4443, -1.6345,  1.6738],\n",
      "         [-0.1588, -1.8369,  0.5406,  0.8178],\n",
      "         [-0.9371,  0.5605, -0.4585,  0.4215]],\n",
      "\n",
      "        [[-1.6968, -0.5511,  0.7867,  0.4336],\n",
      "         [-0.5813, -0.3624, -0.3887,  0.9923],\n",
      "         [ 0.1936,  0.7338, -0.9608,  0.6367],\n",
      "         [-0.1973,  0.3087, -1.5334, -1.3575],\n",
      "         [-0.8923, -0.0491,  0.4147,  0.3574]],\n",
      "\n",
      "        [[ 0.3110, -0.2247,  0.2613,  1.6110],\n",
      "         [-1.6648,  1.1230,  0.4536, -1.2396],\n",
      "         [ 0.6621, -0.0161,  0.9055,  0.4451],\n",
      "         [-1.5074, -0.0828,  0.6550,  0.4948],\n",
      "         [ 0.1338, -0.3954, -1.1367,  0.3677]],\n",
      "\n",
      "        [[ 0.0695,  0.5359, -1.3689, -0.7869],\n",
      "         [ 0.7072,  0.3125, -0.3686, -0.1340],\n",
      "         [ 0.5489, -1.2428,  1.1021,  0.6709],\n",
      "         [-0.6241,  0.1447, -0.8164, -0.9566],\n",
      "         [-0.5872,  0.6009, -1.2360,  0.2487]],\n",
      "\n",
      "        [[-0.9140,  0.3202,  1.4928,  0.7617],\n",
      "         [-0.2891,  2.2529,  0.2336,  1.2205],\n",
      "         [-1.5160, -2.0385, -0.7862,  1.1424],\n",
      "         [-0.5373,  0.0360,  2.0289,  1.6113],\n",
      "         [ 1.0218,  0.5571, -0.0062,  0.1153]],\n",
      "\n",
      "        [[-1.8377, -0.4487,  1.1429,  0.3756],\n",
      "         [-1.0221, -0.0098,  0.1156,  0.1505],\n",
      "         [-0.9446,  0.5525, -0.2859,  0.8438],\n",
      "         [-0.2334,  0.5675, -1.1458,  0.8657],\n",
      "         [ 1.3447,  0.2793, -0.6119,  0.9952]]])\n",
      "torch.return_types.max(\n",
      "values=tensor([[0.6612, 1.4213, 1.7497, 0.3792, 1.0850],\n",
      "        [0.9664, 1.2431, 1.6738, 0.8178, 0.5605],\n",
      "        [0.7867, 0.9923, 0.7338, 0.3087, 0.4147],\n",
      "        [1.6110, 1.1230, 0.9055, 0.6550, 0.3677],\n",
      "        [0.5359, 0.7072, 1.1021, 0.1447, 0.6009],\n",
      "        [1.4928, 2.2529, 1.1424, 2.0289, 1.0218],\n",
      "        [1.1429, 0.1505, 0.8438, 0.8657, 1.3447]]),\n",
      "indices=tensor([[2, 1, 0, 1, 3],\n",
      "        [1, 1, 3, 3, 1],\n",
      "        [2, 3, 1, 1, 2],\n",
      "        [3, 1, 2, 2, 3],\n",
      "        [1, 0, 2, 1, 1],\n",
      "        [2, 1, 3, 2, 0],\n",
      "        [2, 3, 3, 3, 0]]))\n",
      "torch.return_types.max(\n",
      "values=tensor([[ 1.7497,  1.4213,  0.8730,  1.0850],\n",
      "        [-0.1588,  1.2431,  0.8628,  1.6738],\n",
      "        [ 0.1936,  0.7338,  0.7867,  0.9923],\n",
      "        [ 0.6621,  1.1230,  0.9055,  1.6110],\n",
      "        [ 0.7072,  0.6009,  1.1021,  0.6709],\n",
      "        [ 1.0218,  2.2529,  2.0289,  1.6113],\n",
      "        [ 1.3447,  0.5675,  1.1429,  0.9952]]),\n",
      "indices=tensor([[2, 1, 1, 4],\n",
      "        [3, 1, 0, 2],\n",
      "        [2, 2, 0, 1],\n",
      "        [2, 1, 2, 0],\n",
      "        [1, 4, 2, 2],\n",
      "        [4, 1, 3, 3],\n",
      "        [4, 3, 0, 4]]))\n"
     ]
    }
   ],
   "source": [
    "s1 = torch.randn(3, 3)\n",
    "s2 = torch.max(s1, 1)\n",
    "print(s1)\n",
    "print(s2)\n",
    "\n",
    "s3 = torch.randn(7, 5, 4)\n",
    "print(s3)\n",
    "s4 = torch.max(s3, 2)\n",
    "print(s4)\n",
    "s5 = torch.max(s3, 1)\n",
    "print(s5)"
   ]
  },
  {
   "cell_type": "code",
   "execution_count": 15,
   "metadata": {},
   "outputs": [
    {
     "name": "stdout",
     "output_type": "stream",
     "text": [
      "tensor([[1, 4]])\n",
      "tensor([[5.]])\n",
      "tensor([[2.2361]])\n",
      "tensor([[5.]]) tensor(5.)\n",
      "tensor([[-0.0459, -2.5168,  0.4648],\n",
      "        [ 1.2245, -0.1432,  0.9072],\n",
      "        [-0.0459, -2.5168,  0.4648],\n",
      "        [ 1.2245, -0.1432,  0.9072]])\n"
     ]
    }
   ],
   "source": [
    "m1 = torch.tensor([[1, 2]])\n",
    "m2 = torch.tensor([[2, 4]])\n",
    "m3 = torch.pow(m1 - m2, 2)\n",
    "print(m3)\n",
    "m4 = torch.sum(m3, -1, keepdim=True).float()\n",
    "print(m4)\n",
    "print(torch.sqrt(m4))\n",
    "print(torch.mean(m4, -1, keepdim=True), torch.mean(m4))\n",
    "m5 = torch.randn(2, 3)\n",
    "print(torch.cat([m5, m5]))"
   ]
  },
  {
   "cell_type": "markdown",
   "metadata": {},
   "source": [
    "### 4. about dynamic graph"
   ]
  },
  {
   "cell_type": "code",
   "execution_count": 16,
   "metadata": {},
   "outputs": [],
   "source": [
    "import torch"
   ]
  },
  {
   "cell_type": "code",
   "execution_count": 24,
   "metadata": {},
   "outputs": [
    {
     "name": "stdout",
     "output_type": "stream",
     "text": [
      "tensor([[3., 3., 3.],\n",
      "        [3., 3., 3.]])\n"
     ]
    }
   ],
   "source": [
    "x = torch.ones(2, 3, requires_grad=True)\n",
    "\n",
    "y = x + 2\n",
    "z = y * y * 3\n",
    "out = z.mean()\n",
    "\n",
    "# after backward, graph will be destroyed\n",
    "out.backward()\n",
    "# out.backward()\n",
    "print(x.grad)"
   ]
  },
  {
   "cell_type": "code",
   "execution_count": 32,
   "metadata": {},
   "outputs": [
    {
     "name": "stdout",
     "output_type": "stream",
     "text": [
      "tensor([[1.3333, 1.3333, 1.3333],\n",
      "        [1.3333, 1.3333, 1.3333]])\n",
      "tensor([[1.3333, 1.3333, 1.3333],\n",
      "        [1.3333, 1.3333, 1.3333]])\n",
      "tensor([[1.3333, 1.3333, 1.3333],\n",
      "        [1.3333, 1.3333, 1.3333]])\n",
      "tensor([[1.3333, 1.3333, 1.3333],\n",
      "        [1.3333, 1.3333, 1.3333]])\n",
      "tensor([[1.3333, 1.3333, 1.3333],\n",
      "        [1.3333, 1.3333, 1.3333]])\n"
     ]
    }
   ],
   "source": [
    "class Net1:\n",
    "    def __init__(self, x):\n",
    "        # x.size() -> (3, 2)\n",
    "        self.w = torch.ones(2, 3, requires_grad=True)\n",
    "        self.x = x\n",
    "    def forward(self):\n",
    "        out = torch.mm(self.x, self.w)  #(3,3)\n",
    "        out = out * out\n",
    "        return out\n",
    "\n",
    "x = torch.ones(3, 2)\n",
    "net = Net1(x)\n",
    "for i in range(5):\n",
    "    out = net.forward()\n",
    "    result = out.mean()\n",
    "    result.backward()\n",
    "    print(net.w.grad)\n",
    "    net.w.grad.zero_()"
   ]
  }
 ],
 "metadata": {
  "kernelspec": {
   "display_name": "Python 3",
   "language": "python",
   "name": "python3"
  },
  "language_info": {
   "codemirror_mode": {
    "name": "ipython",
    "version": 3
   },
   "file_extension": ".py",
   "mimetype": "text/x-python",
   "name": "python",
   "nbconvert_exporter": "python",
   "pygments_lexer": "ipython3",
   "version": "3.6.5"
  }
 },
 "nbformat": 4,
 "nbformat_minor": 2
}

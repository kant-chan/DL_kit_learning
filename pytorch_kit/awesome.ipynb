{
 "cells": [
  {
   "cell_type": "code",
   "execution_count": 4,
   "metadata": {},
   "outputs": [],
   "source": [
    "import numpy as np\n",
    "import torch\n",
    "import torchvision"
   ]
  },
  {
   "cell_type": "markdown",
   "metadata": {},
   "source": [
    "# about numpy"
   ]
  },
  {
   "cell_type": "code",
   "execution_count": 3,
   "metadata": {},
   "outputs": [
    {
     "name": "stdout",
     "output_type": "stream",
     "text": [
      "(array([0, 3, 4, 5, 6]),)\n"
     ]
    }
   ],
   "source": [
    "v1 = np.array([1, 0, 0, 1, 2, 3, 5, 0, 0])\n",
    "v1 = np.where(v1 != 0)\n",
    "print(v1)"
   ]
  },
  {
   "cell_type": "markdown",
   "metadata": {},
   "source": [
    "# about torch"
   ]
  },
  {
   "cell_type": "markdown",
   "metadata": {},
   "source": [
    "### 1. DataLoader"
   ]
  },
  {
   "cell_type": "code",
   "execution_count": 13,
   "metadata": {},
   "outputs": [],
   "source": [
    "import torch.utils.data as data\n",
    "from torch.utils.data.sampler import Sampler"
   ]
  },
  {
   "cell_type": "code",
   "execution_count": 25,
   "metadata": {},
   "outputs": [
    {
     "name": "stdout",
     "output_type": "stream",
     "text": [
      "0\n",
      "1\n",
      "4\n",
      "tensor([[1., 0., 0., 0., 0., 0., 0.],\n",
      "        [0., 1., 0., 0., 0., 0., 0.],\n",
      "        [0., 0., 0., 0., 1., 0., 0.]])\n",
      "6\n",
      "3\n",
      "2\n",
      "tensor([[0., 0., 0., 0., 0., 0., 1.],\n",
      "        [0., 0., 0., 1., 0., 0., 0.],\n",
      "        [0., 0., 1., 0., 0., 0., 0.]])\n",
      "5\n",
      "tensor([[0., 0., 0., 0., 0., 1., 0.]])\n"
     ]
    }
   ],
   "source": [
    "class MyDataset(data.Dataset):\n",
    "    def __init__(self):\n",
    "        self.data = torch.eye(7)\n",
    "        self.data_len = self.data.size(0)\n",
    "        \n",
    "    def __getitem__(self, index):\n",
    "        print(index)\n",
    "        return self.data[index]\n",
    "    \n",
    "    def __len__(self):\n",
    "        return int(self.data_len)\n",
    "    \n",
    "class Samp(Sampler):\n",
    "    def __init__(self):\n",
    "        self.smp = np.array([0, 1, 4, 6, 3, 2, 5])\n",
    "        self.smp_len = len(self.smp)\n",
    "    \n",
    "    def __iter__(self):\n",
    "        return iter(self.smp)\n",
    "    \n",
    "    def __len__(self):\n",
    "        return self.smp_len\n",
    "\n",
    "\n",
    "mydataset = MyDataset()    \n",
    "samp = Samp()\n",
    "\n",
    "dataloader = data.DataLoader(mydataset,\n",
    "                             batch_size=3,\n",
    "                             shuffle=False,\n",
    "                             sampler=samp)\n",
    "\n",
    "for i, v in enumerate(dataloader):\n",
    "    print(v)"
   ]
  },
  {
   "cell_type": "markdown",
   "metadata": {},
   "source": [
    "### 2. Tensor"
   ]
  },
  {
   "cell_type": "code",
   "execution_count": 11,
   "metadata": {},
   "outputs": [
    {
     "name": "stdout",
     "output_type": "stream",
     "text": [
      "3 <class 'int'>\n"
     ]
    }
   ],
   "source": [
    "t1 = torch.randn(3, 3)\n",
    "print(t1.size(0), type(t1.size(0)))"
   ]
  },
  {
   "cell_type": "code",
   "execution_count": null,
   "metadata": {},
   "outputs": [],
   "source": []
  }
 ],
 "metadata": {
  "kernelspec": {
   "display_name": "Python 3",
   "language": "python",
   "name": "python3"
  },
  "language_info": {
   "codemirror_mode": {
    "name": "ipython",
    "version": 3
   },
   "file_extension": ".py",
   "mimetype": "text/x-python",
   "name": "python",
   "nbconvert_exporter": "python",
   "pygments_lexer": "ipython3",
   "version": "3.6.5"
  }
 },
 "nbformat": 4,
 "nbformat_minor": 2
}

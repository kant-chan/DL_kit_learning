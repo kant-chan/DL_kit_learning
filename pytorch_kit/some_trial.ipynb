{
 "cells": [
  {
   "cell_type": "markdown",
   "metadata": {},
   "source": [
    "# numpy TEST"
   ]
  },
  {
   "cell_type": "code",
   "execution_count": 15,
   "metadata": {
    "scrolled": true
   },
   "outputs": [],
   "source": [
    "import numpy as np\n",
    "from itertools import combinations\n",
    "import time"
   ]
  },
  {
   "cell_type": "code",
   "execution_count": 33,
   "metadata": {
    "scrolled": true
   },
   "outputs": [
    {
     "name": "stdout",
     "output_type": "stream",
     "text": [
      "[[0 1 2 3 4]]\n",
      "[[0]\n",
      " [1]\n",
      " [2]\n",
      " [3]\n",
      " [4]]\n",
      "[[ 0  4  0]\n",
      " [ 9 25  9]\n",
      " [36 64 36]]\n",
      "[  4  43 136]\n",
      "[0 1 2]\n",
      "******* np.argpartition ******\n",
      "[1 2 3 4]\n",
      "[3 4 8 9]\n",
      "[0 1 2 2 3 4 8 9]\n",
      "******* itertools ******\n",
      "[(0, 1), (0, 2), (0, 3)] v1 len: 0 31125\n",
      "******* np.where ******\n",
      "(array([0, 1, 6]),)\n",
      "(array([0, 0, 0, 0]), array([0, 0, 1, 1]), array([0, 1, 0, 1]))\n",
      "******* slice ******\n",
      "[2 4 6]\n",
      "[2 3 4]\n"
     ]
    }
   ],
   "source": [
    "# v1 = np.array([1, 0, 0, 1, 2, 3, 5, 0, 0])\n",
    "# v1 = np.where(v1 != 0)\n",
    "# print(v1)\n",
    "\n",
    "# v2 = np.array([[0, 1, 2, 3],\n",
    "#                [4, 5, 6, 7]])\n",
    "# v2 = v2.reshape((-1,2,2))\n",
    "# print(v2)\n",
    "\n",
    "# v3 = np.array([[[0, 1]],\n",
    "#                [[2, 7]],\n",
    "#                [[-1, 0]],\n",
    "#                [[8, -8]]])\n",
    "# print(v3.shape)\n",
    "# print(v3.max(axis=0))\n",
    "v4 = np.array([0, 1, 2, 3, 4])\n",
    "print(np.expand_dims(v4, axis=0))\n",
    "print(v4[:,np.newaxis])\n",
    "\n",
    "v4 = np.array([[1, 0, 3]])\n",
    "v5 = np.array([[1, 2, 3],\n",
    "               [4, 5, 6],\n",
    "               [7, 8, 9]])\n",
    "v5 = np.square(v5 - v4)\n",
    "print(v5)\n",
    "print(np.sum(v5, axis=-1))\n",
    "print(np.argsort(np.sum(v5, axis=-1)))\n",
    "\n",
    "print('******* np.argpartition ******')\n",
    "v1 = np.array([3, 4, 2, 1])\n",
    "v2 = np.argpartition(v1, 2)\n",
    "print(v1[v2])\n",
    "v1 = np.array([9, 8, 2, 0, 2, 1, 3, 4])\n",
    "v2 = np.argpartition(v1, -4)[-4:]\n",
    "print(v1[v2])\n",
    "v2 = np.argpartition(v1, -4)\n",
    "print(v1[v2])\n",
    "\n",
    "print('******* itertools ******')\n",
    "v1 = combinations(range(250), 2)\n",
    "print(list(v1)[:3], 'v1 len:', len(list(v1)), 250 * 249 // 2)\n",
    "\n",
    "print('******* np.where ******')\n",
    "v1 = np.array([1, 2, 3, 6, 7, 3, 0])\n",
    "v2 = np.where(v1 < 3)\n",
    "print(v2)\n",
    "v1 = np.array([[[1, 2, 4, 6], [0, 2, 4, 7]]])\n",
    "v2 = np.where(v1 < 3)\n",
    "print(v2)\n",
    "\n",
    "print('******* slice ******')\n",
    "v1 = np.array([[1, 2, 3, 4],\n",
    "               [2, 3, 4, 5],\n",
    "               [3, 4, 5, 6],\n",
    "               [4, 5, 6, 7]])\n",
    "print(v1[[0,1,2],[1,2,3]])\n",
    "print(v1[[0,1,2],[1]])\n"
   ]
  },
  {
   "cell_type": "markdown",
   "metadata": {},
   "source": [
    "# about torch"
   ]
  },
  {
   "cell_type": "code",
   "execution_count": 3,
   "metadata": {},
   "outputs": [],
   "source": [
    "import torch\n",
    "import torch.nn.functional as F"
   ]
  },
  {
   "cell_type": "code",
   "execution_count": 8,
   "metadata": {},
   "outputs": [
    {
     "name": "stdout",
     "output_type": "stream",
     "text": [
      "tensor([[-1.3326, -0.3062],\n",
      "        [-0.0907, -2.4451],\n",
      "        [-0.5685, -0.8356]])\n",
      "tensor([[-1.5459, -0.5194],\n",
      "        [ 1.8468, -0.5077],\n",
      "        [ 0.9614,  0.6943]])\n",
      "tensor([[-2.0653],\n",
      "        [ 1.3391],\n",
      "        [ 1.6557]])\n"
     ]
    }
   ],
   "source": [
    "v1 = torch.randn(3, 2)\n",
    "v2 = F.log_softmax(v1, dim=-1)\n",
    "print(v2)\n",
    "print(v1)\n",
    "print(v1.sum(1, keepdim=True))"
   ]
  },
  {
   "cell_type": "code",
   "execution_count": null,
   "metadata": {},
   "outputs": [],
   "source": []
  }
 ],
 "metadata": {
  "kernelspec": {
   "display_name": "Python 3",
   "language": "python",
   "name": "python3"
  },
  "language_info": {
   "codemirror_mode": {
    "name": "ipython",
    "version": 3
   },
   "file_extension": ".py",
   "mimetype": "text/x-python",
   "name": "python",
   "nbconvert_exporter": "python",
   "pygments_lexer": "ipython3",
   "version": "3.6.5"
  }
 },
 "nbformat": 4,
 "nbformat_minor": 2
}

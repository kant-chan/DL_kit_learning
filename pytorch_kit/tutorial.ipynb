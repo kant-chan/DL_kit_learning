{
 "cells": [
  {
   "cell_type": "code",
   "execution_count": 2,
   "metadata": {},
   "outputs": [],
   "source": [
    "import torch\n",
    "import torch.nn as nn\n",
    "import torch.nn.functional as F"
   ]
  },
  {
   "cell_type": "markdown",
   "metadata": {},
   "source": [
    "# tensor"
   ]
  },
  {
   "cell_type": "code",
   "execution_count": 13,
   "metadata": {},
   "outputs": [
    {
     "name": "stdout",
     "output_type": "stream",
     "text": [
      "tensor([1, 2, 3]) 140242842820928\n",
      "tensor([0, 0, 0]) 140242843457408\n",
      "tensor([[1, 2, 3]]) 140242842820928\n",
      "tensor([[[[ 1.0656,  0.6203],\n",
      "          [ 0.2044,  0.1177]],\n",
      "\n",
      "         [[ 1.0796, -0.0443],\n",
      "          [-1.2144,  1.4232]]],\n",
      "\n",
      "\n",
      "        [[[-0.0511, -0.0465],\n",
      "          [-0.1236, -1.0207]],\n",
      "\n",
      "         [[ 0.9134, -0.3741],\n",
      "          [-0.6077,  1.1833]]]])\n",
      "tensor([[[[ 0.0000,  0.6203],\n",
      "          [ 0.2044,  0.0000]],\n",
      "\n",
      "         [[ 1.0796,  0.0000],\n",
      "          [ 0.0000,  1.4232]]],\n",
      "\n",
      "\n",
      "        [[[-0.0511, -0.0465],\n",
      "          [-0.1236, -1.0207]],\n",
      "\n",
      "         [[ 0.9134, -0.3741],\n",
      "          [-0.6077,  1.1833]]]])\n"
     ]
    }
   ],
   "source": [
    "v = torch.tensor([1, 2, 3])\n",
    "vi = v.clone()\n",
    "vii = v.reshape((1, 3))\n",
    "vi.fill_(0)\n",
    "print(v, v.storage().data_ptr())\n",
    "print(vi, vi.storage().data_ptr())\n",
    "print(vii, vii.storage().data_ptr())\n",
    "\n",
    "a = torch.randn(2, 2, 2, 2)\n",
    "print(a)\n",
    "# a[0, [0, 1, 1, 0], 0:2, 0:2] = 0      # right\n",
    "# a[0, [0, 1, 1, 0], [0, 0], [0, 1]] = 0  # error\n",
    "a[0, [0, 1, 1, 0], [0, 0, 1, 1], [0, 1, 0, 1]] = 0\n",
    "print(a)"
   ]
  },
  {
   "cell_type": "markdown",
   "metadata": {},
   "source": [
    "## Dimension"
   ]
  },
  {
   "cell_type": "code",
   "execution_count": 25,
   "metadata": {},
   "outputs": [
    {
     "name": "stdout",
     "output_type": "stream",
     "text": [
      "tensor([[0.5000, 1.0000, 1.5000],\n",
      "        [1.0000, 2.0000, 3.0000],\n",
      "        [0.5000, 1.0000, 1.5000]])\n",
      "tensor([[1.0000, 2.0000, 3.0000],\n",
      "        [1.0000, 2.0000, 2.5000]])\n"
     ]
    }
   ],
   "source": [
    "v = torch.tensor([[1., 2., 3.]])\n",
    "d_v = torch.tensor([[2.], [1.], [2.]])\n",
    "print(v / d_v)\n",
    "\n",
    "vi = torch.tensor([[1., 2., 3.],\n",
    "                   [2., 4., 5.]])\n",
    "d_vi = torch.tensor([[1.], [2.]])\n",
    "print(vi / d_vi)"
   ]
  },
  {
   "cell_type": "markdown",
   "metadata": {},
   "source": [
    "# Autograd"
   ]
  },
  {
   "cell_type": "code",
   "execution_count": 35,
   "metadata": {},
   "outputs": [
    {
     "name": "stdout",
     "output_type": "stream",
     "text": [
      "tensor([[1., 1.],\n",
      "        [1., 1.]], requires_grad=True)\n",
      "tensor([48., 48.], grad_fn=<MeanBackward1>)\n",
      "tensor([[12., 12.],\n",
      "        [12., 12.]])\n",
      "tensor([[1., 1.],\n",
      "        [1., 1.]], requires_grad=True)\n",
      "tensor([48., 48.], grad_fn=<MeanBackward1>)\n",
      "tensor([[24., 24.],\n",
      "        [24., 24.]])\n",
      "tensor([[1., 1.],\n",
      "        [1., 1.]], requires_grad=True)\n",
      "tensor([48., 48.], grad_fn=<MeanBackward1>)\n",
      "tensor([[36., 36.],\n",
      "        [36., 36.]])\n"
     ]
    }
   ],
   "source": [
    "class X:\n",
    "    \n",
    "    def __init__(self):\n",
    "        super(X, self).__init__()\n",
    "        self.x = torch.ones((2, 2), requires_grad=True)\n",
    "    \n",
    "    def forward(self):\n",
    "        y = self.x + 3\n",
    "        z = y * y * 3\n",
    "        out = z.mean(dim=1)\n",
    "        \n",
    "        return out\n",
    "\n",
    "x = X()\n",
    "for _ in range(3):\n",
    "    print(x.x)\n",
    "    out = x.forward()\n",
    "    print(out)\n",
    "#     x.x.zero_grad()\n",
    "    out.backward(torch.tensor([1.0, 1.0]))\n",
    "    print(x.x.grad)"
   ]
  },
  {
   "cell_type": "markdown",
   "metadata": {},
   "source": [
    "# About Layers"
   ]
  },
  {
   "cell_type": "markdown",
   "metadata": {},
   "source": [
    "## Batchnorm"
   ]
  },
  {
   "cell_type": "code",
   "execution_count": 41,
   "metadata": {},
   "outputs": [
    {
     "name": "stdout",
     "output_type": "stream",
     "text": [
      "x:\n",
      "tensor([[[[1., 2., 3.],\n",
      "          [1., 2., 3.],\n",
      "          [1., 2., 3.]],\n",
      "\n",
      "         [[2., 2., 2.],\n",
      "          [3., 1., 1.],\n",
      "          [5., 4., 3.]],\n",
      "\n",
      "         [[1., 1., 1.],\n",
      "          [5., 6., 8.],\n",
      "          [9., 0., 1.]]]])\n",
      "x channel mean:\n",
      "tensor([[[[2.0000]],\n",
      "\n",
      "         [[2.5556]],\n",
      "\n",
      "         [[3.5556]]]])\n",
      "x channel std:\n",
      "tensor([[[[ 0.6667]],\n",
      "\n",
      "         [[ 1.5802]],\n",
      "\n",
      "         [[10.6914]]]])\n",
      "tensor([[[[-1.2247,  0.0000,  1.2247],\n",
      "          [-1.2247,  0.0000,  1.2247],\n",
      "          [-1.2247,  0.0000,  1.2247]],\n",
      "\n",
      "         [[-0.4419, -0.4419, -0.4419],\n",
      "          [ 0.3536, -1.2374, -1.2374],\n",
      "          [ 1.9445,  1.1490,  0.3536]],\n",
      "\n",
      "         [[-0.7816, -0.7816, -0.7816],\n",
      "          [ 0.4418,  0.7476,  1.3593],\n",
      "          [ 1.6651, -1.0874, -0.7816]]]])\n",
      "batch norm forward:\n",
      "tensor([[[[-1.2247,  0.0000,  1.2247],\n",
      "          [-1.2247,  0.0000,  1.2247],\n",
      "          [-1.2247,  0.0000,  1.2247]],\n",
      "\n",
      "         [[-0.4419, -0.4419, -0.4419],\n",
      "          [ 0.3536, -1.2374, -1.2374],\n",
      "          [ 1.9445,  1.1490,  0.3536]],\n",
      "\n",
      "         [[-0.7816, -0.7816, -0.7816],\n",
      "          [ 0.4418,  0.7476,  1.3593],\n",
      "          [ 1.6651, -1.0874, -0.7816]]]])\n"
     ]
    }
   ],
   "source": [
    "x = torch.tensor([[[[1., 2., 3.],\n",
    "                    [1., 2., 3.],\n",
    "                    [1., 2., 3.]],\n",
    "                  \n",
    "                   [[2., 2., 2.],\n",
    "                    [3., 1., 1.],\n",
    "                    [5., 4., 3.]],\n",
    "                  \n",
    "                   [[1., 1., 1.],\n",
    "                    [5., 6., 8.],\n",
    "                    [9., 0., 1.]]]])\n",
    "mean_c = x.mean(dim=(0, 2, 3), keepdim=True)\n",
    "# std_c = x.std(dim=(0, 2, 3), keepdim=True)\n",
    "std_c = x.var(dim=(0, 2, 3), unbiased=False, keepdim=True)\n",
    "print(\"x:\")\n",
    "print(x)\n",
    "print(\"x channel mean:\")\n",
    "print(mean_c)\n",
    "print(\"x channel std:\")\n",
    "print(std_c)\n",
    "print((x - mean_c) / torch.sqrt(std_c + 1e-5))\n",
    "\n",
    "\n",
    "v = nn.BatchNorm2d(3, affine=False)\n",
    "# # for p in v.named_parameters():\n",
    "# #     print(p)\n",
    "# # for b in v.named_buffers():\n",
    "# #     print(b)\n",
    "y = v(x)\n",
    "print(\"batch norm forward:\")\n",
    "print(y)"
   ]
  },
  {
   "cell_type": "markdown",
   "metadata": {},
   "source": [
    "# About nn.Module class"
   ]
  },
  {
   "cell_type": "code",
   "execution_count": 2,
   "metadata": {},
   "outputs": [],
   "source": [
    "class ConvNet(nn.Module):\n",
    "    \n",
    "    def __init__(self):\n",
    "        super(ConvNet, self).__init__()\n",
    "        self.conv1 = nn.Conv2d(1, 6, 3)\n",
    "        self.conv2 = nn.Conv2d(6, 16, 3)\n",
    "        self.fc1 = nn.Linear(16 * 6 * 6, 120)\n",
    "        self.fc2 = nn.Linear(120, 84)\n",
    "        self.fc3 = nn.Linear(84, 10)\n",
    "    \n",
    "    def forward(self, x):\n",
    "        x = F.max_pool2d(F.relu(self.conv1(x)), (2, 2))\n",
    "        x = F.max_pool2d(F.relu(self.conv2(x)), 2)\n",
    "        x = x.view(-1, self.num_flat_features(x))\n",
    "        x = F.relu(self.fc1(x))\n",
    "        x = F.relu(self.fc2(x))\n",
    "        x = self.fc3(x)\n",
    "        return x\n",
    "        \n",
    "    def num_flat_features(self, x):\n",
    "        size = x.size()[1:]\n",
    "        num_feats = 1\n",
    "        for s in size:\n",
    "            num_feats *= s\n",
    "        return num_feats"
   ]
  },
  {
   "cell_type": "code",
   "execution_count": 3,
   "metadata": {},
   "outputs": [
    {
     "name": "stdout",
     "output_type": "stream",
     "text": [
      "ConvNet(\n",
      "  (conv1): Conv2d(1, 6, kernel_size=(3, 3), stride=(1, 1))\n",
      "  (conv2): Conv2d(6, 16, kernel_size=(3, 3), stride=(1, 1))\n",
      "  (fc1): Linear(in_features=576, out_features=120, bias=True)\n",
      "  (fc2): Linear(in_features=120, out_features=84, bias=True)\n",
      "  (fc3): Linear(in_features=84, out_features=10, bias=True)\n",
      ")\n"
     ]
    }
   ],
   "source": [
    "net = ConvNet()\n",
    "print(net)\n",
    "\n",
    "# params = list(net.parameters())\n",
    "# print(len(params))\n",
    "# for i in range(len(params)):\n",
    "#     print(params[i].size())\n",
    "\n",
    "# for param in net.parameters():\n",
    "#     print(type(param))"
   ]
  },
  {
   "cell_type": "markdown",
   "metadata": {},
   "source": [
    "## nn.Module attribute"
   ]
  },
  {
   "cell_type": "code",
   "execution_count": 4,
   "metadata": {},
   "outputs": [
    {
     "name": "stdout",
     "output_type": "stream",
     "text": [
      "===> Net architecture:\n",
      "Net(\n",
      "  (fc1): Linear(in_features=3, out_features=5, bias=True)\n",
      "  (fc2): Linear(in_features=5, out_features=3, bias=True)\n",
      "  (fc3): Sub(\n",
      "    (fc1): Linear(in_features=3, out_features=7, bias=True)\n",
      "  )\n",
      ")\n",
      "===> buffers:\n",
      "===> children:\n",
      "<class 'torch.nn.modules.linear.Linear'> Linear(in_features=3, out_features=5, bias=True)\n",
      "<class 'torch.nn.modules.linear.Linear'> Linear(in_features=5, out_features=3, bias=True)\n",
      "<class '__main__.Sub'> Sub(\n",
      "  (fc1): Linear(in_features=3, out_features=7, bias=True)\n",
      ")\n",
      "===> named_children:\n",
      "fc1 -> (<class 'str'>),  Linear(in_features=3, out_features=5, bias=True)\n",
      "fc2 -> (<class 'str'>),  Linear(in_features=5, out_features=3, bias=True)\n",
      "fc3 -> (<class 'str'>),  Sub(\n",
      "  (fc1): Linear(in_features=3, out_features=7, bias=True)\n",
      ")\n",
      "===> modules:\n",
      "Net(\n",
      "  (fc1): Linear(in_features=3, out_features=5, bias=True)\n",
      "  (fc2): Linear(in_features=5, out_features=3, bias=True)\n",
      "  (fc3): Sub(\n",
      "    (fc1): Linear(in_features=3, out_features=7, bias=True)\n",
      "  )\n",
      ") False\n",
      "Linear(in_features=3, out_features=5, bias=True) True\n",
      "Linear(in_features=5, out_features=3, bias=True) True\n",
      "Sub(\n",
      "  (fc1): Linear(in_features=3, out_features=7, bias=True)\n",
      ") False\n",
      "Linear(in_features=3, out_features=7, bias=True) True\n",
      "===> parameters:\n",
      "Parameter containing:\n",
      "tensor([[-0.4569, -0.5093,  0.1559],\n",
      "        [-0.1146, -0.2964,  0.0668],\n",
      "        [ 0.0709, -0.1272,  0.5222],\n",
      "        [ 0.3295, -0.3516,  0.0251],\n",
      "        [ 0.1185,  0.0186, -0.3286]], requires_grad=True)\n",
      "Parameter containing:\n",
      "tensor([-0.0537,  0.1564,  0.2015, -0.1769,  0.4233], requires_grad=True)\n",
      "Parameter containing:\n",
      "tensor([[-0.1453, -0.1675, -0.0488,  0.4242, -0.4047],\n",
      "        [-0.2777,  0.4261, -0.3151, -0.4241, -0.0360],\n",
      "        [-0.1897,  0.0240,  0.0087, -0.0336,  0.2137]], requires_grad=True)\n",
      "Parameter containing:\n",
      "tensor([-0.4142,  0.1514,  0.1829], requires_grad=True)\n",
      "Parameter containing:\n",
      "tensor([[-0.5172,  0.5254, -0.4798],\n",
      "        [-0.3707,  0.2730,  0.5697],\n",
      "        [ 0.2500,  0.0643, -0.0068],\n",
      "        [ 0.4377,  0.0456, -0.0402],\n",
      "        [-0.1439, -0.5044, -0.3926],\n",
      "        [-0.0211,  0.1482, -0.3014],\n",
      "        [-0.1304, -0.2792, -0.5309]], requires_grad=True)\n",
      "Parameter containing:\n",
      "tensor([ 0.0581,  0.4881,  0.4122, -0.4017,  0.3547,  0.5276,  0.2857],\n",
      "       requires_grad=True)\n",
      "===> named_parameters:\n",
      "fc1.weight -> (<class 'str'>)\n",
      "Parameter containing:\n",
      "tensor([[-0.4569, -0.5093,  0.1559],\n",
      "        [-0.1146, -0.2964,  0.0668],\n",
      "        [ 0.0709, -0.1272,  0.5222],\n",
      "        [ 0.3295, -0.3516,  0.0251],\n",
      "        [ 0.1185,  0.0186, -0.3286]], requires_grad=True)\n",
      "fc1.bias -> (<class 'str'>)\n",
      "Parameter containing:\n",
      "tensor([0., 0., 0., 0., 0.], requires_grad=True)\n",
      "fc2.weight -> (<class 'str'>)\n",
      "Parameter containing:\n",
      "tensor([[-0.1453, -0.1675, -0.0488,  0.4242, -0.4047],\n",
      "        [-0.2777,  0.4261, -0.3151, -0.4241, -0.0360],\n",
      "        [-0.1897,  0.0240,  0.0087, -0.0336,  0.2137]], requires_grad=True)\n",
      "fc2.bias -> (<class 'str'>)\n",
      "Parameter containing:\n",
      "tensor([0., 0., 0.], requires_grad=True)\n",
      "fc3.fc1.weight -> (<class 'str'>)\n",
      "Parameter containing:\n",
      "tensor([[-0.5172,  0.5254, -0.4798],\n",
      "        [-0.3707,  0.2730,  0.5697],\n",
      "        [ 0.2500,  0.0643, -0.0068],\n",
      "        [ 0.4377,  0.0456, -0.0402],\n",
      "        [-0.1439, -0.5044, -0.3926],\n",
      "        [-0.0211,  0.1482, -0.3014],\n",
      "        [-0.1304, -0.2792, -0.5309]], requires_grad=True)\n",
      "fc3.fc1.bias -> (<class 'str'>)\n",
      "Parameter containing:\n",
      "tensor([0., 0., 0., 0., 0., 0., 0.], requires_grad=True)\n",
      "===> initial test:\n",
      "True\n",
      "weight\n",
      "bias\n",
      "True\n",
      "weight\n",
      "bias\n",
      "False\n"
     ]
    }
   ],
   "source": [
    "class Sub(nn.Module):\n",
    "    \n",
    "    def __init__(self):\n",
    "        super(Sub, self).__init__()\n",
    "        \n",
    "        self.fc1 = nn.Linear(3, 7)\n",
    "    \n",
    "    def forward(self, x):\n",
    "        out = self.fc1(x)\n",
    "        \n",
    "        return out\n",
    "\n",
    "class Net(nn.Module):\n",
    "    \n",
    "    def __init__(self):\n",
    "        super(Net, self).__init__()\n",
    "        \n",
    "        self.fc1 = nn.Linear(3, 5)\n",
    "        self.fc2 = nn.Linear(5, 3)\n",
    "        self.fc3 = Sub()\n",
    "        \n",
    "    def forward(self, x):\n",
    "        out = self.fc1(x)\n",
    "        out = self.fc2(out)\n",
    "        out = self.fc3(out)\n",
    "        \n",
    "        return out\n",
    "\n",
    "net = Net()\n",
    "print(\"===> Net architecture:\")\n",
    "print(net)\n",
    "\n",
    "print(\"===> buffers:\")\n",
    "for buf in net.buffers():\n",
    "    print(\"---\")\n",
    "    print(type(buf), buf.size())\n",
    "\n",
    "print(\"===> children:\")\n",
    "for chd in net.children():\n",
    "    print(type(chd), chd)\n",
    "\n",
    "print(\"===> named_children:\")\n",
    "for n, n_chd in net.named_children():\n",
    "    print(n, f'-> ({type(n)}), ', n_chd)\n",
    "    \n",
    "print(\"===> modules:\")\n",
    "for modu in net.modules():\n",
    "    print(modu, isinstance(modu, nn.Linear))\n",
    "\n",
    "print(\"===> parameters:\")\n",
    "for para in net.parameters():\n",
    "    print(para)\n",
    "    \n",
    "print(\"===> named_parameters:\")\n",
    "init_flag = True\n",
    "for n, para in net.named_parameters(recurse=True):\n",
    "    print(n, f'-> ({type(n)})')\n",
    "    if init_flag:\n",
    "        if n.endswith(\".bias\"):\n",
    "            nn.init.constant_(para, 0.0)\n",
    "    print(para)\n",
    "\n",
    "# bad impelement\n",
    "print(\"===> initial test:\")\n",
    "for chd in net.children():\n",
    "    print(isinstance(chd, nn.Linear))\n",
    "    if isinstance(chd, nn.Linear):\n",
    "        for para_name, para in chd.named_parameters():\n",
    "            print(para_name)\n",
    "            if para_name.endswith(\".weight\"):\n",
    "                nn.init.constant_(m.weight, 0.0)\n",
    "                print(m.weight)\n",
    "            if para_name.endswith(\".bias\"):\n",
    "                nn.init.constant_(m.bias, 0.0)"
   ]
  },
  {
   "cell_type": "markdown",
   "metadata": {},
   "source": [
    "## initialization"
   ]
  },
  {
   "cell_type": "code",
   "execution_count": 25,
   "metadata": {},
   "outputs": [
    {
     "name": "stdout",
     "output_type": "stream",
     "text": [
      "===> hasattr:\n",
      "fc1 --> True\n",
      "fc2 --> True\n",
      "===> apply fn:\n",
      "Parameter containing:\n",
      "tensor([[-0.2439,  0.4455],\n",
      "        [-0.5618, -0.2808]], requires_grad=True)\n",
      "Parameter containing:\n",
      "tensor([0., 0.], requires_grad=True)\n",
      "Parameter containing:\n",
      "tensor([[-0.0714, -0.1229],\n",
      "        [-0.3134, -0.4178]], requires_grad=True)\n"
     ]
    }
   ],
   "source": [
    "class Neti(nn.Module):\n",
    "    \n",
    "    def __init__(self):\n",
    "        super(Neti, self).__init__()\n",
    "        \n",
    "        self.fc1 = nn.Linear(2, 2)\n",
    "        self.fc2 = nn.Linear(2, 2, bias=False)\n",
    "    \n",
    "    def forward(self, x):\n",
    "        out = self.fc1(x)\n",
    "        out = self.fc2(out)\n",
    "        \n",
    "        return out\n",
    "\n",
    "def _init_weight(m):\n",
    "    if isinstance(m, nn.Linear):\n",
    "        nn.init.xavier_normal_(m.weight)\n",
    "        if m.bias is not None:\n",
    "            nn.init.constant_(m.bias, 0)\n",
    "    elif isinstance(m, nn.Conv2d):\n",
    "        nn.init.kaiming_normal_(m.weight, mode='fan_out', nonlinearity='relu')\n",
    "    elif isinstance(m, nn.BatchNorm2d):\n",
    "        nn.init.constant_(m.weight, 1)\n",
    "        if m.bias is not None:\n",
    "            nn.init.constant_(m.bias, 0)\n",
    "\n",
    "\n",
    "neti = Neti()\n",
    "\n",
    "print(\"===> hasattr:\")\n",
    "for chld_name, chld in neti.named_children():\n",
    "        print(f'{chld_name} -->', hasattr(chld, \"bias\"))\n",
    "        \n",
    "print(\"===> apply fn:\")\n",
    "neti.apply(_init_weight)\n",
    "for para in neti.parameters():\n",
    "    print(para)"
   ]
  },
  {
   "cell_type": "markdown",
   "metadata": {},
   "source": [
    "# About Loss"
   ]
  },
  {
   "cell_type": "code",
   "execution_count": 4,
   "metadata": {},
   "outputs": [
    {
     "name": "stdout",
     "output_type": "stream",
     "text": [
      "tensor([[ 0.0113,  0.0475, -0.0518,  0.0591,  0.0167,  0.0898,  0.1361, -0.1081,\n",
      "          0.0605,  0.0512]], grad_fn=<AddmmBackward>)\n",
      "tensor([[-1.1377, -0.5150, -1.2655,  0.6322,  0.5224, -2.1549, -0.8694,  0.9398,\n",
      "          1.4885,  0.6093]])\n",
      "tensor(1.3192, grad_fn=<MeanBackward0>)\n",
      "tensor(1.3192, grad_fn=<MseLossBackward>)\n"
     ]
    }
   ],
   "source": [
    "inpt = torch.randn(1, 1, 32, 32)\n",
    "out = net(inpt)\n",
    "print(out)\n",
    "y = torch.randn(10).view(1, -1)\n",
    "print(y)\n",
    "\n",
    "res = torch.mean(torch.pow(out-y, 2))\n",
    "print(res)\n",
    "\n",
    "criterion = nn.MSELoss()\n",
    "loss = criterion(out, y)\n",
    "print(loss)"
   ]
  },
  {
   "cell_type": "code",
   "execution_count": null,
   "metadata": {},
   "outputs": [],
   "source": []
  }
 ],
 "metadata": {
  "kernelspec": {
   "display_name": "Python 3",
   "language": "python",
   "name": "python3"
  },
  "language_info": {
   "codemirror_mode": {
    "name": "ipython",
    "version": 3
   },
   "file_extension": ".py",
   "mimetype": "text/x-python",
   "name": "python",
   "nbconvert_exporter": "python",
   "pygments_lexer": "ipython3",
   "version": "3.6.5"
  }
 },
 "nbformat": 4,
 "nbformat_minor": 2
}

{
 "metadata": {
  "language_info": {
   "codemirror_mode": {
    "name": "ipython",
    "version": 3
   },
   "file_extension": ".py",
   "mimetype": "text/x-python",
   "name": "python",
   "nbconvert_exporter": "python",
   "pygments_lexer": "ipython3",
   "version": 3
  },
  "orig_nbformat": 2
 },
 "nbformat": 4,
 "nbformat_minor": 2,
 "cells": [
  {
   "source": [
    "## reference\n",
    "\n",
    "* http://www.cs.cmu.edu/~epxing/Class/10708-19/lectures/"
   ],
   "cell_type": "markdown",
   "metadata": {}
  }
 ]
}
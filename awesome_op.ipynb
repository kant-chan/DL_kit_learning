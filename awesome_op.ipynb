{
 "cells": [
  {
   "cell_type": "markdown",
   "metadata": {},
   "source": [
    "# about numpy"
   ]
  },
  {
   "cell_type": "markdown",
   "metadata": {},
   "source": [
    "## 0. dimention"
   ]
  },
  {
   "cell_type": "code",
   "execution_count": 20,
   "metadata": {},
   "outputs": [
    {
     "name": "stdout",
     "output_type": "stream",
     "text": [
      "() <class 'tuple'>\n",
      "(1,) <class 'tuple'>\n"
     ]
    }
   ],
   "source": [
    "import numpy as np\n",
    "\n",
    "v1 = np.array(0)\n",
    "print(v1.shape, type(v1.shape))\n",
    "\n",
    "v1 = np.array([0])\n",
    "print(v1.shape, type(v1.shape))"
   ]
  },
  {
   "cell_type": "markdown",
   "metadata": {},
   "source": [
    "## 1. index view and copy"
   ]
  },
  {
   "cell_type": "code",
   "execution_count": 1,
   "metadata": {},
   "outputs": [
    {
     "name": "stdout",
     "output_type": "stream",
     "text": [
      "[4, 5]\n",
      "[1, 2, 3, 4, 5]\n",
      "x: [0 1 2 3 4]\n",
      "x: [0 1 2 3 4]\n",
      "x: [83 83  2  3  4]\n",
      "[83 83]\n",
      "[83 83  2  3  4]\n",
      "[83 83]\n",
      "[83 83  2  3  4]\n",
      "[[1. 1. 1.]\n",
      " [1. 1. 1.]\n",
      " [1. 1. 1.]]\n",
      "[[1. 1. 1.]\n",
      " [1. 1. 1.]\n",
      " [1. 1. 1.]]\n",
      "[[1. 1. 1.]\n",
      " [1. 1. 1.]]\n",
      "[[73. 73. 73.]\n",
      " [ 1.  1.  1.]]\n",
      "[[1. 1. 1.]\n",
      " [1. 1. 1.]\n",
      " [1. 1. 1.]]\n",
      "[[1. 1. 1.]]\n",
      "[[73. 73. 73.]\n",
      " [ 1.  1.  1.]\n",
      " [ 1.  1.  1.]]\n"
     ]
    }
   ],
   "source": [
    "import numpy as np\n",
    "\n",
    "########## slice index ###########\n",
    "v1 = [1, 2, 3, 4, 5]\n",
    "print(v1[3:9])\n",
    "\n",
    "v2 = v1[:2]\n",
    "v2[:] = [0, 0]\n",
    "print(v1)\n",
    "\n",
    "x = np.arange(5)\n",
    "print('x:', x)\n",
    "\n",
    "tmp = x[0]\n",
    "tmp = 99\n",
    "print('x:', x)\n",
    "\n",
    "tmp = x[:2]         # view\n",
    "tmp[:] = 83\n",
    "print('x:', x)\n",
    "\n",
    "########## array index ##########\n",
    "tmp = x[[0,1]]      # copy\n",
    "print(tmp)\n",
    "tmp[:] = 73\n",
    "print(x)\n",
    "\n",
    "tmp = x[np.array([0,1])]     # copy\n",
    "print(tmp)\n",
    "tmp[:] = 73\n",
    "print(x)\n",
    "\n",
    "x = np.ones((3, 3))\n",
    "print(x)\n",
    "tmp = x[np.array([0]), :]    # copy\n",
    "tmp[:] = 73\n",
    "print(x)\n",
    "\n",
    "tmp = x[np.array([0, 1]), :] # copy\n",
    "print(tmp)\n",
    "tmp[0] = 73\n",
    "print(tmp)\n",
    "print(x)\n",
    "\n",
    "tmp = x[:1, :]               # view\n",
    "print(tmp)\n",
    "tmp[0] = 73\n",
    "print(x)"
   ]
  },
  {
   "cell_type": "markdown",
   "metadata": {},
   "source": [
    "# numpy TEST"
   ]
  },
  {
   "cell_type": "code",
   "execution_count": 1,
   "metadata": {
    "scrolled": true
   },
   "outputs": [],
   "source": [
    "import numpy as np\n",
    "from itertools import combinations\n",
    "import time"
   ]
  },
  {
   "cell_type": "code",
   "execution_count": 16,
   "metadata": {
    "scrolled": true
   },
   "outputs": [
    {
     "name": "stdout",
     "output_type": "stream",
     "text": [
      "[[0 1 2 3 4]]\n",
      "[[0]\n",
      " [1]\n",
      " [2]\n",
      " [3]\n",
      " [4]]\n",
      "[[ 0  4  0]\n",
      " [ 9 25  9]\n",
      " [36 64 36]]\n",
      "[  4  43 136]\n",
      "[0 1 2]\n",
      "******* np.argpartition ******\n",
      "[1 2 3 4]\n",
      "[3 4 8 9]\n",
      "[0 1 2 2 3 4 8 9]\n",
      "******* itertools ******\n",
      "[(0, 1), (0, 2), (0, 3)] v1 len: 0 31125\n",
      "******* np.where ******\n",
      "(array([0, 1, 6]),)\n",
      "(array([0, 0, 0, 0]), array([0, 0, 1, 1]), array([0, 1, 0, 1]))\n",
      "******* slice ******\n",
      "[2 4 6]\n",
      "[2 3 4]\n",
      "******* np.linalg.norm ******\n",
      "5.477225575051661\n",
      "[[5.47722558]\n",
      " [5.47722558]]\n",
      "******* sort ******\n",
      "[[1]\n",
      " [2]\n",
      " [0]\n",
      " [3]]\n",
      "[[1]\n",
      " [2]\n",
      " [4]\n",
      " [5]]\n"
     ]
    }
   ],
   "source": [
    "# v1 = np.array([1, 0, 0, 1, 2, 3, 5, 0, 0])\n",
    "# v1 = np.where(v1 != 0)\n",
    "# print(v1)\n",
    "\n",
    "# v2 = np.array([[0, 1, 2, 3],\n",
    "#                [4, 5, 6, 7]])\n",
    "# v2 = v2.reshape((-1,2,2))\n",
    "# print(v2)\n",
    "\n",
    "# v3 = np.array([[[0, 1]],\n",
    "#                [[2, 7]],\n",
    "#                [[-1, 0]],\n",
    "#                [[8, -8]]])\n",
    "# print(v3.shape)\n",
    "# print(v3.max(axis=0))\n",
    "v4 = np.array([0, 1, 2, 3, 4])\n",
    "print(np.expand_dims(v4, axis=0))\n",
    "print(v4[:,np.newaxis])\n",
    "\n",
    "v4 = np.array([[1, 0, 3]])\n",
    "v5 = np.array([[1, 2, 3],\n",
    "               [4, 5, 6],\n",
    "               [7, 8, 9]])\n",
    "v5 = np.square(v5 - v4)\n",
    "print(v5)\n",
    "print(np.sum(v5, axis=-1))\n",
    "print(np.argsort(np.sum(v5, axis=-1)))\n",
    "\n",
    "print('******* np.argpartition ******')\n",
    "v1 = np.array([3, 4, 2, 1])\n",
    "v2 = np.argpartition(v1, 2)\n",
    "print(v1[v2])\n",
    "v1 = np.array([9, 8, 2, 0, 2, 1, 3, 4])\n",
    "v2 = np.argpartition(v1, -4)[-4:]\n",
    "print(v1[v2])\n",
    "v2 = np.argpartition(v1, -4)\n",
    "print(v1[v2])\n",
    "\n",
    "print('******* itertools ******')\n",
    "v1 = combinations(range(250), 2)\n",
    "print(list(v1)[:3], 'v1 len:', len(list(v1)), 250 * 249 // 2)\n",
    "\n",
    "print('******* np.where ******')\n",
    "v1 = np.array([1, 2, 3, 6, 7, 3, 0])\n",
    "v2 = np.where(v1 < 3)\n",
    "print(v2)\n",
    "v1 = np.array([[[1, 2, 4, 6], [0, 2, 4, 7]]])\n",
    "v2 = np.where(v1 < 3)\n",
    "print(v2)\n",
    "\n",
    "print('******* slice ******')\n",
    "v1 = np.array([[1, 2, 3, 4],\n",
    "               [2, 3, 4, 5],\n",
    "               [3, 4, 5, 6],\n",
    "               [4, 5, 6, 7]])\n",
    "print(v1[[0,1,2],[1,2,3]])\n",
    "print(v1[[0,1,2],[1]])\n",
    "\n",
    "print('******* np.linalg.norm ******')\n",
    "x = np.array([[1, 2, 3, 4],\n",
    "              [1, 2, 3, 4]])\n",
    "print(np.sqrt(30.0))\n",
    "x_norm=np.linalg.norm(x, ord=None, axis=1, keepdims=True)\n",
    "print(x_norm)\n",
    "\n",
    "print('******* sort ******')\n",
    "x = np.array([[4], [1], [2], [5]])\n",
    "x_idx = np.argsort(x, axis=0)\n",
    "print(x_idx)\n",
    "print(x[x_idx.flatten()])"
   ]
  },
  {
   "cell_type": "markdown",
   "metadata": {},
   "source": [
    "# about torch"
   ]
  },
  {
   "cell_type": "code",
   "execution_count": 3,
   "metadata": {},
   "outputs": [],
   "source": [
    "import torch\n",
    "import torch.nn.functional as F"
   ]
  },
  {
   "cell_type": "code",
   "execution_count": 8,
   "metadata": {},
   "outputs": [
    {
     "name": "stdout",
     "output_type": "stream",
     "text": [
      "tensor([[-1.3326, -0.3062],\n",
      "        [-0.0907, -2.4451],\n",
      "        [-0.5685, -0.8356]])\n",
      "tensor([[-1.5459, -0.5194],\n",
      "        [ 1.8468, -0.5077],\n",
      "        [ 0.9614,  0.6943]])\n",
      "tensor([[-2.0653],\n",
      "        [ 1.3391],\n",
      "        [ 1.6557]])\n"
     ]
    }
   ],
   "source": [
    "v1 = torch.randn(3, 2)\n",
    "v2 = F.log_softmax(v1, dim=-1)\n",
    "print(v2)\n",
    "print(v1)\n",
    "print(v1.sum(1, keepdim=True))"
   ]
  },
  {
   "cell_type": "code",
   "execution_count": 10,
   "metadata": {},
   "outputs": [
    {
     "name": "stdout",
     "output_type": "stream",
     "text": [
      "tensor([0., 1., 1., 0.])\n",
      "torch.bool\n",
      "tensor([False,  True,  True, False]) tensor([0., 2.])\n",
      "tensor([ True, False,  True])\n"
     ]
    }
   ],
   "source": [
    "v1 = torch.FloatTensor([0.1, 1.9, 3.7, 2.4])\n",
    "v2 = torch.FloatTensor([3, 0, 2, 5])\n",
    "v3 = v1 > v2\n",
    "print(v3.to(torch.float32))\n",
    "print(v3.dtype)\n",
    "print(v3, v2[v3])\n",
    "# print(v3.to(torch.float32))\n",
    "\n",
    "v4 = torch.BoolTensor([True, False, True])\n",
    "v5 = torch.BoolTensor([False, False, False])\n",
    "print(v4 > v5)"
   ]
  },
  {
   "cell_type": "markdown",
   "metadata": {},
   "source": [
    "# Image Operator"
   ]
  },
  {
   "cell_type": "code",
   "execution_count": null,
   "metadata": {},
   "outputs": [],
   "source": [
    "from PIL import Image\n",
    "import numpy as np\n",
    "from matplotlib import pyplot as plt\n",
    "\n",
    "img_path = '/Users/muzhi/Downloads/tmp/1.jpg'\n",
    "den_path = '/Users/muzhi/Downloads/tmp/1.csv'\n",
    "\n",
    "img = Image.open(img_path)\n",
    "if img.mode == 'L':\n",
    "    img.convert('RGB')\n",
    "w, h = img.size\n",
    "\n",
    "img_ny = np.asarray(img)\n",
    "shape = img_ny.shape  # (h, w, c)\n",
    "dtype = img_ny.dtype  # (np.uint8)\n",
    "d_max, d_min = np.max(img_ny), np.min(img_ny)\n",
    "print(shape, dtype, d_max, d_min)\n",
    "\n",
    "# np.uint8 image to float\n",
    "img_ny = img_ny / 255.0\n",
    "print(img_ny.max(), img_ny.min())\n",
    "\n",
    "# fromarray must be uint8\n",
    "im = Image.fromarray(img_ny.astype('uint8'))\n",
    "print(im.mode)\n",
    "new_im = np.asarray(im)\n",
    "print(new_im.shape, new_im.dtype, new_im.max(), new_im.min())\n",
    "\n",
    "p_img = plt.imread(img_path)\n",
    "print(p_img.shape, p_img.dtype)\n",
    "\n",
    "lst = [{'a': [123]}, {'a': [456, 123]},{'b': [789, 456]}]\n",
    "\n",
    "dic = {}\n",
    "for _ in lst:\n",
    "    for k, v in _.items():\n",
    "        dic.setdefault(k, []).extend(v)\n",
    "\n",
    "print(dic)"
   ]
  }
 ],
 "metadata": {
  "kernelspec": {
   "display_name": "Python 3",
   "language": "python",
   "name": "python3"
  },
  "language_info": {
   "codemirror_mode": {
    "name": "ipython",
    "version": 3
   },
   "file_extension": ".py",
   "mimetype": "text/x-python",
   "name": "python",
   "nbconvert_exporter": "python",
   "pygments_lexer": "ipython3",
   "version": "3.6.5"
  }
 },
 "nbformat": 4,
 "nbformat_minor": 2
}

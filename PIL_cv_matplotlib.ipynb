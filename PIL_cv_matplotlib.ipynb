{
 "cells": [
  {
   "cell_type": "code",
   "execution_count": 5,
   "metadata": {},
   "outputs": [],
   "source": [
    "from PIL import Image\n",
    "import numpy as np"
   ]
  },
  {
   "cell_type": "code",
   "execution_count": 10,
   "metadata": {},
   "outputs": [
    {
     "name": "stdout",
     "output_type": "stream",
     "text": [
      "92 112\n",
      "(112, 92) uint8 211 9\n"
     ]
    }
   ],
   "source": [
    "data_path = './data/att_faces/test/s5/1.pgm'\n",
    "\n",
    "img = Image.open(data_path)\n",
    "w, h = img.size\n",
    "print(w, h)\n",
    "img_ny = np.asarray(img)\n",
    "shape = img_ny.shape\n",
    "dtype = img_ny.dtype\n",
    "d_max, d_min = np.max(img_ny), np.min(img_ny)\n",
    "print(shape, dtype, d_max, d_min)"
   ]
  },
  {
   "cell_type": "code",
   "execution_count": null,
   "metadata": {},
   "outputs": [],
   "source": []
  }
 ],
 "metadata": {
  "kernelspec": {
   "display_name": "Python 3",
   "language": "python",
   "name": "python3"
  },
  "language_info": {
   "codemirror_mode": {
    "name": "ipython",
    "version": 3
   },
   "file_extension": ".py",
   "mimetype": "text/x-python",
   "name": "python",
   "nbconvert_exporter": "python",
   "pygments_lexer": "ipython3",
   "version": "3.6.5"
  }
 },
 "nbformat": 4,
 "nbformat_minor": 2
}
